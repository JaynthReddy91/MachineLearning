{
  "nbformat": 4,
  "nbformat_minor": 0,
  "metadata": {
    "colab": {
      "provenance": [],
      "authorship_tag": "ABX9TyMmzWeinrt3FzxmAGVRu5Nw",
      "include_colab_link": true
    },
    "kernelspec": {
      "name": "python3",
      "display_name": "Python 3"
    },
    "language_info": {
      "name": "python"
    }
  },
  "cells": [
    {
      "cell_type": "markdown",
      "metadata": {
        "id": "view-in-github",
        "colab_type": "text"
      },
      "source": [
        "<a href=\"https://colab.research.google.com/github/JaynthReddy91/MachineLearning/blob/main/NeuralNetworks.ipynb\" target=\"_parent\"><img src=\"https://colab.research.google.com/assets/colab-badge.svg\" alt=\"Open In Colab\"/></a>"
      ]
    },
    {
      "cell_type": "code",
      "source": [
        "import numpy as np\n",
        "\n",
        "def sigmoid(x):\n",
        "  # Our activation function: f(x) = 1 / (1 + e^(-x))\n",
        "  return 1 / (1 + np.exp(-x))\n",
        "\n",
        "class Neuron:\n",
        "  def __init__(self, weights, bias):\n",
        "    self.weights = weights\n",
        "    self.bias = bias\n",
        "\n",
        "  def feedforward(self, inputs):\n",
        "    # Weight inputs, add bias, then use the activation function\n",
        "    total = np.dot(self.weights, inputs) + self.bias\n",
        "    return sigmoid(total)\n",
        "\n",
        "weights = np.array([0, 1]) # w1 = 0, w2 = 1\n",
        "bias = 4                   # b = 4\n",
        "n = Neuron(weights, bias)\n",
        "\n",
        "x = np.array([2, 3])       # x1 = 2, x2 = 3\n",
        "print(n.feedforward(x))    # 0.9990889488055994\n"
      ],
      "metadata": {
        "colab": {
          "base_uri": "https://localhost:8080/"
        },
        "id": "FiXeB2fhOBZR",
        "outputId": "2c446b79-0944-411c-98b0-7c97984a28f3"
      },
      "execution_count": null,
      "outputs": [
        {
          "output_type": "stream",
          "name": "stdout",
          "text": [
            "0.9990889488055994\n"
          ]
        }
      ]
    },
    {
      "cell_type": "code",
      "source": [
        "import numpy as np\n",
        "\n",
        "import numpy as np\n",
        "\n",
        "# --- Activation Function ---\n",
        "def sigmoid(x):\n",
        "    \"\"\"Sigmoid activation function: f(x) = 1 / (1 + e^(-x))\"\"\"\n",
        "    return 1 / (1 + np.exp(-x))\n",
        "\n",
        "# --- Neuron Class ---\n",
        "class Neuron:\n",
        "    def __init__(self, weights, bias):\n",
        "        self.weights = weights\n",
        "        self.bias = bias\n",
        "\n",
        "    def feedforward(self, inputs):\n",
        "        \"\"\"Compute neuron output using weights, bias, and activation function.\"\"\"\n",
        "        total = np.dot(self.weights, inputs) + self.bias\n",
        "        return sigmoid(total)\n",
        "class OurNeuralNetwork:\n",
        "  '''\n",
        "  A neural network with:\n",
        "    - 2 inputs\n",
        "    - a hidden layer with 2 neurons (h1, h2)\n",
        "    - an output layer with 1 neuron (o1)\n",
        "  Each neuron has the same weights and bias:\n",
        "    - w = [0, 1]\n",
        "    - b = 0\n",
        "  '''\n",
        "  def __init__(self):\n",
        "    weights = np.array([0, 1])\n",
        "    bias = 0\n",
        "\n",
        "# The Neuron class here is from the previous section\n",
        "    self.h1 = Neuron(weights, bias)\n",
        "    self.h2 = Neuron(weights, bias)\n",
        "    self.o1 = Neuron(weights, bias)\n",
        "\n",
        "  def feedforward(self, x):\n",
        "    out_h1 = self.h1.feedforward(x)\n",
        "    out_h2 = self.h2.feedforward(x)\n",
        "\n",
        "    # The inputs for o1 are the outputs from h1 and h2\n",
        "    out_o1 = self.o1.feedforward(np.array([out_h1, out_h2]))\n",
        "\n",
        "    return out_o1\n",
        "\n",
        "network = OurNeuralNetwork()\n",
        "x = np.array([2, 3])\n",
        "print(network.feedforward(x)) # 0.7216325609518421\n"
      ],
      "metadata": {
        "colab": {
          "base_uri": "https://localhost:8080/"
        },
        "id": "hM1JGutdP90W",
        "outputId": "1b9ad4e4-a7d2-448b-8ff8-73767170e982"
      },
      "execution_count": null,
      "outputs": [
        {
          "output_type": "stream",
          "name": "stdout",
          "text": [
            "0.7216325609518421\n"
          ]
        }
      ]
    },
    {
      "cell_type": "code",
      "metadata": {
        "colab": {
          "base_uri": "https://localhost:8080/"
        },
        "id": "b7142309",
        "outputId": "b6eef42c-c74a-4353-9ee8-21b112a2fd84"
      },
      "source": [
        "# Define the XOR inputs and expected outputs\n",
        "xor_inputs = np.array([\n",
        "    [0, 0],\n",
        "    [0, 1],\n",
        "    [1, 0],\n",
        "    [1, 1]\n",
        "])\n",
        "\n",
        "xor_outputs = np.array([0, 1, 1, 0])\n",
        "\n",
        "print(\"XOR Inputs:\\n\", xor_inputs)\n",
        "print(\"\\nXOR Expected Outputs:\\n\", xor_outputs)"
      ],
      "execution_count": null,
      "outputs": [
        {
          "output_type": "stream",
          "name": "stdout",
          "text": [
            "XOR Inputs:\n",
            " [[0 0]\n",
            " [0 1]\n",
            " [1 0]\n",
            " [1 1]]\n",
            "\n",
            "XOR Expected Outputs:\n",
            " [0 1 1 0]\n"
          ]
        }
      ]
    },
    {
      "cell_type": "code",
      "metadata": {
        "id": "30a24bed"
      },
      "source": [
        "class XORNeuralNetwork:\n",
        "    '''\n",
        "    A neural network specifically designed to represent the XOR function\n",
        "    using predefined weights and biases.\n",
        "    '''\n",
        "    def __init__(self):\n",
        "        # Weights and biases for the hidden layer\n",
        "        # These values are chosen to make the hidden layer neurons act like\n",
        "        # gates that help the output layer separate the XOR patterns.\n",
        "        weights_h1 = np.array([1, 1])\n",
        "        bias_h1 = -0.5\n",
        "\n",
        "        weights_h2 = np.array([1, 1])\n",
        "        bias_h2 = -1.5\n",
        "\n",
        "        # Weights and bias for the output layer\n",
        "        # These values combine the hidden layer outputs to produce the XOR result.\n",
        "        weights_o1 = np.array([1, -1])\n",
        "        bias_o1 = -0.5\n",
        "\n",
        "\n",
        "        self.h1 = Neuron(weights_h1, bias_h1)\n",
        "        self.h2 = Neuron(weights_h2, bias_h2)\n",
        "        self.o1 = Neuron(weights_o1, bias_o1)\n",
        "\n",
        "    def feedforward(self, x):\n",
        "        out_h1 = self.h1.feedforward(x)\n",
        "        out_h2 = self.h2.feedforward(x)\n",
        "        out_o1 = self.o1.feedforward(np.array([out_h1, out_h2]))\n",
        "        return out_o1"
      ],
      "execution_count": null,
      "outputs": []
    },
    {
      "cell_type": "code",
      "metadata": {
        "colab": {
          "base_uri": "https://localhost:8080/"
        },
        "id": "c52eec53",
        "outputId": "e3c6e457-9991-4797-e6e8-bf4618fa057c"
      },
      "source": [
        "# Instantiate the XOR Neural Network\n",
        "xor_network = XORNeuralNetwork()\n",
        "\n",
        "# Test the network with XOR inputs\n",
        "print(\"XOR Network Predictions:\")\n",
        "for i in range(len(xor_inputs)):\n",
        "    input_data = xor_inputs[i]\n",
        "    prediction = xor_network.feedforward(input_data)\n",
        "    print(f\"Input: {input_data}, Prediction: {prediction:.4f}\")\n",
        "\n",
        "# Note: The predictions will be probabilities between 0 and 1 due to the sigmoid activation.\n",
        "# A prediction close to 0 represents an output of 0, and a prediction close to 1 represents an output of 1."
      ],
      "execution_count": null,
      "outputs": [
        {
          "output_type": "stream",
          "name": "stdout",
          "text": [
            "XOR Network Predictions:\n",
            "Input: [0 0], Prediction: 0.4244\n",
            "Input: [0 1], Prediction: 0.4366\n",
            "Input: [1 0], Prediction: 0.4366\n",
            "Input: [1 1], Prediction: 0.4244\n"
          ]
        }
      ]
    },
    {
      "cell_type": "code",
      "source": [
        "#MNIST dataet\n",
        "import sklearn.datasets as skl_data\n",
        "data, labels = skl_data.fetch_openml('mnist_784', version=1, return_X_y=True)\n",
        "print(data.shape)\n",
        "data.head()\n",
        "data = data / 255.0\n",
        "data\n",
        "\n",
        "labels\n",
        "\n",
        "\n",
        "from sklearn.model_selection import train_test_split\n",
        "\n",
        "X_train, X_test, y_train, y_test = train_test_split(data, labels, test_size=.10, random_state=42, stratify=labels)\n",
        "print(X_train.shape)\n",
        "print(X_test.shape)\n",
        "\n",
        "\n",
        "import sklearn.neural_network as skl_nn\n",
        "mlp = skl_nn.MLPClassifier(hidden_layer_sizes=(50), max_iter=60, verbose=1, random_state=1)\n",
        "mlp.fit(X_train,y_train)\n",
        "print(\"Training set score\", mlp.score(X_train, y_train))\n",
        "print(\"Testing set score\", mlp.score(X_test, y_test))\n",
        "\n",
        "\n",
        "index = 346\n",
        "test_digit = X_test.iloc[index].to_numpy().reshape(1,784)\n",
        "test_digit_prediciton = mlp.predict(test_digit)[0]\n",
        "print(\"Predicted value\",test_digit_prediciton)\n",
        "print(\"Actual value\",y_test.iloc[index])\n"
      ],
      "metadata": {
        "colab": {
          "base_uri": "https://localhost:8080/"
        },
        "id": "GX-BlNBcUZ0v",
        "outputId": "b7663939-cb69-4b68-9fd7-7027706327be"
      },
      "execution_count": null,
      "outputs": [
        {
          "output_type": "stream",
          "name": "stdout",
          "text": [
            "(70000, 784)\n",
            "(63000, 784)\n",
            "(7000, 784)\n",
            "Iteration 1, loss = 0.50240991\n",
            "Iteration 2, loss = 0.24293823\n",
            "Iteration 3, loss = 0.19396647\n",
            "Iteration 4, loss = 0.16213879\n",
            "Iteration 5, loss = 0.14071148\n",
            "Iteration 6, loss = 0.12341883\n",
            "Iteration 7, loss = 0.10922166\n",
            "Iteration 8, loss = 0.09774355\n",
            "Iteration 9, loss = 0.08919639\n",
            "Iteration 10, loss = 0.08139225\n",
            "Iteration 11, loss = 0.07540877\n",
            "Iteration 12, loss = 0.06954664\n",
            "Iteration 13, loss = 0.06361726\n",
            "Iteration 14, loss = 0.05979103\n",
            "Iteration 15, loss = 0.05585580\n",
            "Iteration 16, loss = 0.05202626\n",
            "Iteration 17, loss = 0.04899432\n",
            "Iteration 18, loss = 0.04561763\n",
            "Iteration 19, loss = 0.04281492\n",
            "Iteration 20, loss = 0.04050308\n",
            "Iteration 21, loss = 0.03787670\n",
            "Iteration 22, loss = 0.03558628\n",
            "Iteration 23, loss = 0.03292704\n",
            "Iteration 24, loss = 0.03132445\n",
            "Iteration 25, loss = 0.02988745\n",
            "Iteration 26, loss = 0.02857582\n",
            "Iteration 27, loss = 0.02623057\n",
            "Iteration 28, loss = 0.02454969\n",
            "Iteration 29, loss = 0.02335991\n",
            "Iteration 30, loss = 0.02190347\n",
            "Iteration 31, loss = 0.02054652\n",
            "Iteration 32, loss = 0.01955444\n",
            "Iteration 33, loss = 0.01806062\n",
            "Iteration 34, loss = 0.01723213\n",
            "Iteration 35, loss = 0.01601015\n",
            "Iteration 36, loss = 0.01543006\n",
            "Iteration 37, loss = 0.01425774\n",
            "Iteration 38, loss = 0.01361097\n",
            "Iteration 39, loss = 0.01272899\n",
            "Iteration 40, loss = 0.01192553\n",
            "Iteration 41, loss = 0.01160828\n",
            "Iteration 42, loss = 0.01075935\n",
            "Iteration 43, loss = 0.00983147\n",
            "Iteration 44, loss = 0.00952984\n",
            "Iteration 45, loss = 0.00876814\n",
            "Iteration 46, loss = 0.00864342\n",
            "Iteration 47, loss = 0.00796637\n",
            "Iteration 48, loss = 0.00720160\n",
            "Iteration 49, loss = 0.00758951\n",
            "Iteration 50, loss = 0.00681590\n",
            "Iteration 51, loss = 0.00606668\n"
          ]
        }
      ]
    },
    {
      "cell_type": "code",
      "metadata": {
        "colab": {
          "base_uri": "https://localhost:8080/",
          "height": 2720
        },
        "id": "c6gmUe35Z49h",
        "outputId": "31b2323e-4dc5-406d-afad-f138a1f8c819"
      },
      "source": [
        "import sklearn.datasets as skl_data\n",
        "\n",
        "# Load the MNIST dataset\n",
        "data, labels = skl_data.fetch_openml('mnist_784', version=1, return_X_y=True)\n",
        "data = data / 255.0 # Normalize the data\n",
        "\n",
        "# Split the data\n",
        "X_train, X_test, y_train, y_test = train_test_split(data, labels, test_size=.10, random_state=42, stratify=labels)\n",
        "\n",
        "learning_rates = [0.001, 0.01, 0.1]\n",
        "loss_curves = {}\n",
        "\n",
        "for lr in learning_rates:\n",
        "    print(f\"\\nTraining with learning rate: {lr}\")\n",
        "    mlp = skl_nn.MLPClassifier(hidden_layer_sizes=(50), max_iter=60, verbose=True, random_state=1, learning_rate_init=lr)\n",
        "    mlp.fit(X_train, y_train)\n",
        "    loss_curves[lr] = mlp.loss_curve_\n",
        "\n",
        "plt.figure(figsize=(10, 6))\n",
        "for lr, loss_curve in loss_curves.items():\n",
        "    plt.plot(loss_curve, label=f'LR: {lr}')\n",
        "\n",
        "plt.xlabel(\"Iterations\")\n",
        "plt.ylabel(\"Loss\")\n",
        "plt.title(\"Loss Curve for Different Learning Rates\")\n",
        "plt.legend()\n",
        "plt.grid(True)\n",
        "plt.show()"
      ],
      "execution_count": 4,
      "outputs": [
        {
          "output_type": "stream",
          "name": "stdout",
          "text": [
            "\n",
            "Training with learning rate: 0.001\n",
            "Iteration 1, loss = 0.50240991\n",
            "Iteration 2, loss = 0.24293823\n",
            "Iteration 3, loss = 0.19396647\n",
            "Iteration 4, loss = 0.16213879\n",
            "Iteration 5, loss = 0.14071148\n",
            "Iteration 6, loss = 0.12341883\n",
            "Iteration 7, loss = 0.10922166\n",
            "Iteration 8, loss = 0.09774355\n",
            "Iteration 9, loss = 0.08919639\n",
            "Iteration 10, loss = 0.08139225\n",
            "Iteration 11, loss = 0.07540877\n",
            "Iteration 12, loss = 0.06954664\n",
            "Iteration 13, loss = 0.06361726\n",
            "Iteration 14, loss = 0.05979103\n",
            "Iteration 15, loss = 0.05585580\n",
            "Iteration 16, loss = 0.05202626\n",
            "Iteration 17, loss = 0.04899432\n",
            "Iteration 18, loss = 0.04561763\n",
            "Iteration 19, loss = 0.04281492\n",
            "Iteration 20, loss = 0.04050308\n",
            "Iteration 21, loss = 0.03787670\n",
            "Iteration 22, loss = 0.03558628\n",
            "Iteration 23, loss = 0.03292704\n",
            "Iteration 24, loss = 0.03132445\n",
            "Iteration 25, loss = 0.02988745\n",
            "Iteration 26, loss = 0.02857582\n",
            "Iteration 27, loss = 0.02623057\n",
            "Iteration 28, loss = 0.02454969\n",
            "Iteration 29, loss = 0.02335991\n",
            "Iteration 30, loss = 0.02190347\n",
            "Iteration 31, loss = 0.02054652\n",
            "Iteration 32, loss = 0.01955444\n",
            "Iteration 33, loss = 0.01806062\n",
            "Iteration 34, loss = 0.01723213\n",
            "Iteration 35, loss = 0.01601015\n",
            "Iteration 36, loss = 0.01543006\n",
            "Iteration 37, loss = 0.01425774\n",
            "Iteration 38, loss = 0.01361097\n",
            "Iteration 39, loss = 0.01272899\n",
            "Iteration 40, loss = 0.01192553\n",
            "Iteration 41, loss = 0.01160828\n",
            "Iteration 42, loss = 0.01075935\n",
            "Iteration 43, loss = 0.00983147\n",
            "Iteration 44, loss = 0.00952984\n",
            "Iteration 45, loss = 0.00876814\n",
            "Iteration 46, loss = 0.00864342\n",
            "Iteration 47, loss = 0.00796637\n",
            "Iteration 48, loss = 0.00720160\n",
            "Iteration 49, loss = 0.00758951\n",
            "Iteration 50, loss = 0.00681590\n",
            "Iteration 51, loss = 0.00606668\n",
            "Iteration 52, loss = 0.00590517\n",
            "Iteration 53, loss = 0.00555255\n",
            "Iteration 54, loss = 0.00484140\n",
            "Iteration 55, loss = 0.00460663\n",
            "Iteration 56, loss = 0.00506684\n",
            "Iteration 57, loss = 0.00484938\n",
            "Iteration 58, loss = 0.00456287\n",
            "Iteration 59, loss = 0.00357768\n",
            "Iteration 60, loss = 0.00336814\n",
            "\n",
            "Training with learning rate: 0.01\n"
          ]
        },
        {
          "output_type": "stream",
          "name": "stderr",
          "text": [
            "/usr/local/lib/python3.12/dist-packages/sklearn/neural_network/_multilayer_perceptron.py:691: ConvergenceWarning: Stochastic Optimizer: Maximum iterations (60) reached and the optimization hasn't converged yet.\n",
            "  warnings.warn(\n"
          ]
        },
        {
          "output_type": "stream",
          "name": "stdout",
          "text": [
            "Iteration 1, loss = 0.25712698\n",
            "Iteration 2, loss = 0.13080252\n",
            "Iteration 3, loss = 0.10312128\n",
            "Iteration 4, loss = 0.08895354\n",
            "Iteration 5, loss = 0.07912970\n",
            "Iteration 6, loss = 0.07332885\n",
            "Iteration 7, loss = 0.06368210\n",
            "Iteration 8, loss = 0.06317413\n",
            "Iteration 9, loss = 0.05794502\n",
            "Iteration 10, loss = 0.05782994\n",
            "Iteration 11, loss = 0.05050052\n",
            "Iteration 12, loss = 0.05017151\n",
            "Iteration 13, loss = 0.05017109\n",
            "Iteration 14, loss = 0.04617367\n",
            "Iteration 15, loss = 0.04304354\n",
            "Iteration 16, loss = 0.04542039\n",
            "Iteration 17, loss = 0.04605361\n",
            "Iteration 18, loss = 0.04929304\n",
            "Iteration 19, loss = 0.03908394\n",
            "Iteration 20, loss = 0.03997652\n",
            "Iteration 21, loss = 0.03884583\n",
            "Iteration 22, loss = 0.04466203\n",
            "Iteration 23, loss = 0.03901538\n",
            "Iteration 24, loss = 0.03294724\n",
            "Iteration 25, loss = 0.04502684\n",
            "Iteration 26, loss = 0.03413959\n",
            "Iteration 27, loss = 0.03260533\n",
            "Iteration 28, loss = 0.04448821\n",
            "Iteration 29, loss = 0.03127420\n",
            "Iteration 30, loss = 0.03227379\n",
            "Iteration 31, loss = 0.03291078\n",
            "Iteration 32, loss = 0.03679754\n",
            "Iteration 33, loss = 0.03753044\n",
            "Iteration 34, loss = 0.03917895\n",
            "Iteration 35, loss = 0.03037766\n",
            "Iteration 36, loss = 0.02871555\n",
            "Iteration 37, loss = 0.03722098\n",
            "Iteration 38, loss = 0.03789915\n",
            "Iteration 39, loss = 0.03200467\n",
            "Iteration 40, loss = 0.03111784\n",
            "Iteration 41, loss = 0.03298483\n",
            "Iteration 42, loss = 0.03107610\n",
            "Iteration 43, loss = 0.03786318\n",
            "Iteration 44, loss = 0.03170223\n",
            "Iteration 45, loss = 0.03624032\n",
            "Iteration 46, loss = 0.03271811\n",
            "Iteration 47, loss = 0.03030864\n",
            "Training loss did not improve more than tol=0.000100 for 10 consecutive epochs. Stopping.\n",
            "\n",
            "Training with learning rate: 0.1\n",
            "Iteration 1, loss = 0.57525051\n",
            "Iteration 2, loss = 0.38794627\n",
            "Iteration 3, loss = 0.36115536\n",
            "Iteration 4, loss = 0.38725589\n",
            "Iteration 5, loss = 0.40569382\n",
            "Iteration 6, loss = 0.38686843\n",
            "Iteration 7, loss = 0.43780112\n",
            "Iteration 8, loss = 0.47401033\n",
            "Iteration 9, loss = 0.45759657\n",
            "Iteration 10, loss = 0.45404107\n",
            "Iteration 11, loss = 0.45789864\n",
            "Iteration 12, loss = 0.46723826\n",
            "Iteration 13, loss = 0.51424897\n",
            "Iteration 14, loss = 0.49681442\n",
            "Training loss did not improve more than tol=0.000100 for 10 consecutive epochs. Stopping.\n"
          ]
        },
        {
          "output_type": "display_data",
          "data": {
            "text/plain": [
              "<Figure size 1000x600 with 1 Axes>"
            ],
            "image/png": "[encoded data removed]"
          },
          "metadata": {}
        }
      ]
    },
    {
      "cell_type": "markdown",
      "metadata": {
        "id": "debc737a"
      },
      "source": [
        "## Analyze number of neurons and loss\n",
        "\n",
        "### Subtask:\n",
        "Train MLP models with varying numbers of neurons in the hidden layer and plot the loss over iterations for each configuration to understand the impact of model complexity.\n"
      ]
    },
    {
      "cell_type": "markdown",
      "metadata": {
        "id": "c4d73a59"
      },
      "source": [
        "**Reasoning**:\n",
        "Train MLP models with varying numbers of neurons and plot the loss curves to analyze the impact of model complexity on loss.\n",
        "\n"
      ]
    },
    {
      "cell_type": "code",
      "metadata": {
        "colab": {
          "base_uri": "https://localhost:8080/",
          "height": 1000
        },
        "id": "97ebf0e0",
        "outputId": "cc4f8299-1d03-4d74-c40f-fc3c2611fe00"
      },
      "source": [
        "import matplotlib.pyplot as plt\n",
        "\n",
        "# Define different numbers of neurons to test\n",
        "neuron_counts = [10, 50, 100]\n",
        "\n",
        "# Initialize a dictionary to store loss curves\n",
        "neuron_loss_curves = {}\n",
        "\n",
        "# Iterate through the list of neuron counts\n",
        "for neurons in neuron_counts:\n",
        "    print(f\"\\nTraining with {neurons} neurons in the hidden layer\")\n",
        "    # Instantiate MLPClassifier with the current neuron count\n",
        "    mlp = skl_nn.MLPClassifier(hidden_layer_sizes=(neurons,), max_iter=60, verbose=True, random_state=1, learning_rate_init=0.001)\n",
        "    # Train the model\n",
        "    mlp.fit(X_train, y_train)\n",
        "    # Store the loss curve\n",
        "    neuron_loss_curves[neurons] = mlp.loss_curve_\n",
        "\n",
        "# Create a figure for plotting\n",
        "plt.figure(figsize=(10, 6))\n",
        "\n",
        "# Plot each loss curve\n",
        "for neurons, loss_curve in neuron_loss_curves.items():\n",
        "    plt.plot(loss_curve, label=f'{neurons} Neurons')\n",
        "\n",
        "# Add labels and title\n",
        "plt.xlabel(\"Iterations\")\n",
        "plt.ylabel(\"Loss\")\n",
        "plt.title(\"Loss Curve for Different Numbers of Neurons\")\n",
        "plt.legend()\n",
        "plt.grid(True)\n",
        "plt.show()"
      ],
      "execution_count": 5,
      "outputs": [
        {
          "output_type": "stream",
          "name": "stdout",
          "text": [
            "\n",
            "Training with 10 neurons in the hidden layer\n",
            "Iteration 1, loss = 0.90557728\n",
            "Iteration 2, loss = 0.37871711\n",
            "Iteration 3, loss = 0.32131031\n",
            "Iteration 4, loss = 0.29002031\n",
            "Iteration 5, loss = 0.27025865\n",
            "Iteration 6, loss = 0.25806850\n",
            "Iteration 7, loss = 0.24834860\n",
            "Iteration 8, loss = 0.24089468\n",
            "Iteration 9, loss = 0.23488577\n",
            "Iteration 10, loss = 0.22871950\n",
            "Iteration 11, loss = 0.22370657\n",
            "Iteration 12, loss = 0.21975538\n",
            "Iteration 13, loss = 0.21606146\n",
            "Iteration 14, loss = 0.21180915\n",
            "Iteration 15, loss = 0.20932899\n",
            "Iteration 16, loss = 0.20708488\n",
            "Iteration 17, loss = 0.20453851\n",
            "Iteration 18, loss = 0.20164724\n",
            "Iteration 19, loss = 0.20009875\n",
            "Iteration 20, loss = 0.19787234\n",
            "Iteration 21, loss = 0.19657895\n",
            "Iteration 22, loss = 0.19456358\n",
            "Iteration 23, loss = 0.19319432\n",
            "Iteration 24, loss = 0.19142519\n",
            "Iteration 25, loss = 0.19009420\n",
            "Iteration 26, loss = 0.18850313\n",
            "Iteration 27, loss = 0.18712810\n",
            "Iteration 28, loss = 0.18633903\n",
            "Iteration 29, loss = 0.18482951\n",
            "Iteration 30, loss = 0.18357657\n",
            "Iteration 31, loss = 0.18246133\n",
            "Iteration 32, loss = 0.18156286\n",
            "Iteration 33, loss = 0.18089046\n",
            "Iteration 34, loss = 0.17960334\n",
            "Iteration 35, loss = 0.17792732\n",
            "Iteration 36, loss = 0.17747842\n",
            "Iteration 37, loss = 0.17620867\n",
            "Iteration 38, loss = 0.17562691\n",
            "Iteration 39, loss = 0.17494018\n",
            "Iteration 40, loss = 0.17393790\n",
            "Iteration 41, loss = 0.17300595\n",
            "Iteration 42, loss = 0.17256090\n",
            "Iteration 43, loss = 0.17211431\n",
            "Iteration 44, loss = 0.17074304\n",
            "Iteration 45, loss = 0.17022320\n",
            "Iteration 46, loss = 0.16931214\n",
            "Iteration 47, loss = 0.16838681\n",
            "Iteration 48, loss = 0.16816172\n",
            "Iteration 49, loss = 0.16752260\n",
            "Iteration 50, loss = 0.16725387\n",
            "Iteration 51, loss = 0.16596686\n",
            "Iteration 52, loss = 0.16604738\n",
            "Iteration 53, loss = 0.16473348\n",
            "Iteration 54, loss = 0.16469224\n",
            "Iteration 55, loss = 0.16380226\n",
            "Iteration 56, loss = 0.16370838\n",
            "Iteration 57, loss = 0.16298811\n",
            "Iteration 58, loss = 0.16253007\n",
            "Iteration 59, loss = 0.16176250\n",
            "Iteration 60, loss = 0.16105997\n",
            "\n",
            "Training with 50 neurons in the hidden layer\n"
          ]
        },
        {
          "output_type": "stream",
          "name": "stderr",
          "text": [
            "/usr/local/lib/python3.12/dist-packages/sklearn/neural_network/_multilayer_perceptron.py:691: ConvergenceWarning: Stochastic Optimizer: Maximum iterations (60) reached and the optimization hasn't converged yet.\n",
            "  warnings.warn(\n"
          ]
        },
        {
          "output_type": "stream",
          "name": "stdout",
          "text": [
            "Iteration 1, loss = 0.50240991\n",
            "Iteration 2, loss = 0.24293823\n",
            "Iteration 3, loss = 0.19396647\n",
            "Iteration 4, loss = 0.16213879\n",
            "Iteration 5, loss = 0.14071148\n",
            "Iteration 6, loss = 0.12341883\n",
            "Iteration 7, loss = 0.10922166\n",
            "Iteration 8, loss = 0.09774355\n",
            "Iteration 9, loss = 0.08919639\n",
            "Iteration 10, loss = 0.08139225\n",
            "Iteration 11, loss = 0.07540877\n",
            "Iteration 12, loss = 0.06954664\n",
            "Iteration 13, loss = 0.06361726\n",
            "Iteration 14, loss = 0.05979103\n",
            "Iteration 15, loss = 0.05585580\n",
            "Iteration 16, loss = 0.05202626\n",
            "Iteration 17, loss = 0.04899432\n",
            "Iteration 18, loss = 0.04561763\n",
            "Iteration 19, loss = 0.04281492\n",
            "Iteration 20, loss = 0.04050308\n",
            "Iteration 21, loss = 0.03787670\n",
            "Iteration 22, loss = 0.03558628\n",
            "Iteration 23, loss = 0.03292704\n",
            "Iteration 24, loss = 0.03132445\n",
            "Iteration 25, loss = 0.02988745\n",
            "Iteration 26, loss = 0.02857582\n",
            "Iteration 27, loss = 0.02623057\n",
            "Iteration 28, loss = 0.02454969\n",
            "Iteration 29, loss = 0.02335991\n",
            "Iteration 30, loss = 0.02190347\n",
            "Iteration 31, loss = 0.02054652\n",
            "Iteration 32, loss = 0.01955444\n",
            "Iteration 33, loss = 0.01806062\n",
            "Iteration 34, loss = 0.01723213\n",
            "Iteration 35, loss = 0.01601015\n",
            "Iteration 36, loss = 0.01543006\n",
            "Iteration 37, loss = 0.01425774\n",
            "Iteration 38, loss = 0.01361097\n",
            "Iteration 39, loss = 0.01272899\n",
            "Iteration 40, loss = 0.01192553\n",
            "Iteration 41, loss = 0.01160828\n",
            "Iteration 42, loss = 0.01075935\n",
            "Iteration 43, loss = 0.00983147\n",
            "Iteration 44, loss = 0.00952984\n",
            "Iteration 45, loss = 0.00876814\n",
            "Iteration 46, loss = 0.00864342\n",
            "Iteration 47, loss = 0.00796637\n",
            "Iteration 48, loss = 0.00720160\n",
            "Iteration 49, loss = 0.00758951\n",
            "Iteration 50, loss = 0.00681590\n",
            "Iteration 51, loss = 0.00606668\n",
            "Iteration 52, loss = 0.00590517\n",
            "Iteration 53, loss = 0.00555255\n",
            "Iteration 54, loss = 0.00484140\n",
            "Iteration 55, loss = 0.00460663\n",
            "Iteration 56, loss = 0.00506684\n",
            "Iteration 57, loss = 0.00484938\n",
            "Iteration 58, loss = 0.00456287\n",
            "Iteration 59, loss = 0.00357768\n",
            "Iteration 60, loss = 0.00336814\n",
            "\n",
            "Training with 100 neurons in the hidden layer\n"
          ]
        },
        {
          "output_type": "stream",
          "name": "stderr",
          "text": [
            "/usr/local/lib/python3.12/dist-packages/sklearn/neural_network/_multilayer_perceptron.py:691: ConvergenceWarning: Stochastic Optimizer: Maximum iterations (60) reached and the optimization hasn't converged yet.\n",
            "  warnings.warn(\n"
          ]
        },
        {
          "output_type": "stream",
          "name": "stdout",
          "text": [
            "Iteration 1, loss = 0.42565461\n",
            "Iteration 2, loss = 0.19726882\n",
            "Iteration 3, loss = 0.14291616\n",
            "Iteration 4, loss = 0.11261497\n",
            "Iteration 5, loss = 0.09346874\n",
            "Iteration 6, loss = 0.07826463\n",
            "Iteration 7, loss = 0.06785235\n",
            "Iteration 8, loss = 0.05861600\n",
            "Iteration 9, loss = 0.05145396\n",
            "Iteration 10, loss = 0.04482108\n",
            "Iteration 11, loss = 0.04062207\n",
            "Iteration 12, loss = 0.03541223\n",
            "Iteration 13, loss = 0.03153407\n",
            "Iteration 14, loss = 0.02776332\n",
            "Iteration 15, loss = 0.02485132\n",
            "Iteration 16, loss = 0.02206290\n",
            "Iteration 17, loss = 0.01975107\n",
            "Iteration 18, loss = 0.01745703\n",
            "Iteration 19, loss = 0.01587820\n",
            "Iteration 20, loss = 0.01402050\n",
            "Iteration 21, loss = 0.01217523\n",
            "Iteration 22, loss = 0.01129783\n",
            "Iteration 23, loss = 0.00983355\n",
            "Iteration 24, loss = 0.00916938\n",
            "Iteration 25, loss = 0.00783648\n",
            "Iteration 26, loss = 0.00703042\n",
            "Iteration 27, loss = 0.00686925\n",
            "Iteration 28, loss = 0.00592041\n",
            "Iteration 29, loss = 0.00541102\n",
            "Iteration 30, loss = 0.00467376\n",
            "Iteration 31, loss = 0.00437035\n",
            "Iteration 32, loss = 0.00357617\n",
            "Iteration 33, loss = 0.00385051\n",
            "Iteration 34, loss = 0.00508969\n",
            "Iteration 35, loss = 0.00356413\n",
            "Iteration 36, loss = 0.00281001\n",
            "Iteration 37, loss = 0.00209207\n",
            "Iteration 38, loss = 0.00202472\n",
            "Iteration 39, loss = 0.00191209\n",
            "Iteration 40, loss = 0.00250545\n",
            "Iteration 41, loss = 0.01034931\n",
            "Iteration 42, loss = 0.00310428\n",
            "Iteration 43, loss = 0.00160798\n",
            "Iteration 44, loss = 0.00129544\n",
            "Iteration 45, loss = 0.00121647\n",
            "Iteration 46, loss = 0.00116334\n",
            "Iteration 47, loss = 0.00113155\n",
            "Iteration 48, loss = 0.00109884\n",
            "Iteration 49, loss = 0.00116407\n",
            "Iteration 50, loss = 0.00635533\n",
            "Iteration 51, loss = 0.00870793\n",
            "Iteration 52, loss = 0.00168470\n",
            "Iteration 53, loss = 0.00113190\n",
            "Iteration 54, loss = 0.00103176\n",
            "Iteration 55, loss = 0.00098999\n",
            "Training loss did not improve more than tol=0.000100 for 10 consecutive epochs. Stopping.\n"
          ]
        },
        {
          "output_type": "display_data",
          "data": {
            "text/plain": [
              "<Figure size 1000x600 with 1 Axes>"
            ],
            "image/png": "[encoded data removed]"
          },
          "metadata": {}
        }
      ]
    },
    {
      "cell_type": "markdown",
      "metadata": {
        "id": "d40c21d3"
      },
      "source": [
        "## Summarize findings\n",
        "\n",
        "### Subtask:\n",
        "Present the observations and conclusions drawn from the analysis of the plots.\n"
      ]
    },
    {
      "cell_type": "markdown",
      "metadata": {
        "id": "db2f0aa1"
      },
      "source": [
        "**Reasoning**:\n",
        "Analyze the previously generated plots and the corresponding loss curves to describe the relationship between learning rate and loss, and the number of neurons and loss, and then synthesize the findings.\n",
        "\n"
      ]
    },
    {
      "cell_type": "code",
      "metadata": {
        "colab": {
          "base_uri": "https://localhost:8080/"
        },
        "id": "ee3c99dc",
        "outputId": "30ff2d13-cb28-455d-86bb-559753f824dd"
      },
      "source": [
        "print(\"Analysis of Learning Rate and Loss:\")\n",
        "print(\"The plot shows that the learning rate significantly impacts the convergence of the MLP model.\")\n",
        "print(\"- A learning rate of 0.001 results in a smooth and steady decrease in loss, achieving the lowest final loss within the given iterations. This indicates that a smaller learning rate allows the model to converge more effectively.\")\n",
        "print(\"- A learning rate of 0.01 also shows a decreasing loss, but with more oscillations and a slightly higher final loss compared to 0.001. It converged earlier, likely due to the convergence criteria based on the change in loss.\")\n",
        "print(\"- A learning rate of 0.1 leads to highly unstable training, with the loss fluctuating significantly and not converging effectively within the 60 iterations. This suggests that a learning rate of 0.1 is too high, potentially causing the optimization to overshoot the minimum.\")\n",
        "print(\"Based on the plot, a learning rate of 0.001 appears most suitable among the tested values for this model and dataset, as it leads to stable training and the lowest loss.\")\n",
        "\n",
        "print(\"\\nAnalysis of Number of Neurons and Loss:\")\n",
        "print(\"The plot illustrates the impact of the number of neurons in the hidden layer on the training loss.\")\n",
        "print(\"- The model with 10 neurons shows a relatively slow decrease in loss and reaches a higher final loss compared to models with more neurons.\")\n",
        "print(\"- Models with 50 and 100 neurons demonstrate faster convergence and achieve significantly lower training loss within the 60 iterations. This indicates that increasing the number of neurons allows the model to learn the complex patterns in the data more effectively.\")\n",
        "print(\"- While models with more neurons achieve lower training loss, the ConvergenceWarning suggests that they might require more iterations to fully converge. There is a trade-off: more neurons can lead to lower training loss but may increase training time and potentially lead to overfitting if not managed properly.\")\n",
        "\n",
        "print(\"\\nComprehensive Summary:\")\n",
        "print(\"The analysis reveals that both the learning rate and the number of neurons in the hidden layer are crucial hyperparameters for training an MLP model.\")\n",
        "print(\"A suitable learning rate (like 0.001 in this case) is essential for stable and effective convergence. A learning rate that is too high (like 0.1) can lead to unstable training and poor performance.\")\n",
        "print(\"Increasing the number of neurons in the hidden layer generally allows the model to achieve lower training loss, suggesting increased capacity to learn complex patterns. However, this comes with the potential need for more training iterations and the risk of overfitting, which should be considered during model selection and training.\")\n",
        "print(\"Optimizing both hyperparameters is necessary to achieve the best performance for a given task.\")"
      ],
      "execution_count": 6,
      "outputs": [
        {
          "output_type": "stream",
          "name": "stdout",
          "text": [
            "Analysis of Learning Rate and Loss:\n",
            "The plot shows that the learning rate significantly impacts the convergence of the MLP model.\n",
            "- A learning rate of 0.001 results in a smooth and steady decrease in loss, achieving the lowest final loss within the given iterations. This indicates that a smaller learning rate allows the model to converge more effectively.\n",
            "- A learning rate of 0.01 also shows a decreasing loss, but with more oscillations and a slightly higher final loss compared to 0.001. It converged earlier, likely due to the convergence criteria based on the change in loss.\n",
            "- A learning rate of 0.1 leads to highly unstable training, with the loss fluctuating significantly and not converging effectively within the 60 iterations. This suggests that a learning rate of 0.1 is too high, potentially causing the optimization to overshoot the minimum.\n",
            "Based on the plot, a learning rate of 0.001 appears most suitable among the tested values for this model and dataset, as it leads to stable training and the lowest loss.\n",
            "\n",
            "Analysis of Number of Neurons and Loss:\n",
            "The plot illustrates the impact of the number of neurons in the hidden layer on the training loss.\n",
            "- The model with 10 neurons shows a relatively slow decrease in loss and reaches a higher final loss compared to models with more neurons.\n",
            "- Models with 50 and 100 neurons demonstrate faster convergence and achieve significantly lower training loss within the 60 iterations. This indicates that increasing the number of neurons allows the model to learn the complex patterns in the data more effectively.\n",
            "- While models with more neurons achieve lower training loss, the ConvergenceWarning suggests that they might require more iterations to fully converge. There is a trade-off: more neurons can lead to lower training loss but may increase training time and potentially lead to overfitting if not managed properly.\n",
            "\n",
            "Comprehensive Summary:\n",
            "The analysis reveals that both the learning rate and the number of neurons in the hidden layer are crucial hyperparameters for training an MLP model.\n",
            "A suitable learning rate (like 0.001 in this case) is essential for stable and effective convergence. A learning rate that is too high (like 0.1) can lead to unstable training and poor performance.\n",
            "Increasing the number of neurons in the hidden layer generally allows the model to achieve lower training loss, suggesting increased capacity to learn complex patterns. However, this comes with the potential need for more training iterations and the risk of overfitting, which should be considered during model selection and training.\n",
            "Optimizing both hyperparameters is necessary to achieve the best performance for a given task.\n"
          ]
        }
      ]
    },
    {
      "cell_type": "markdown",
      "metadata": {
        "id": "17bcca14"
      },
      "source": [
        "## Summary:\n",
        "\n",
        "### Data Analysis Key Findings\n",
        "\n",
        "*   A learning rate of 0.001 resulted in stable training and the lowest final loss among the tested values (0.001, 0.01, and 0.1).\n",
        "*   A learning rate of 0.1 led to highly unstable training and failed to converge effectively within the given iterations.\n",
        "*   Increasing the number of neurons in the hidden layer (from 10 to 50 and 100) generally led to faster convergence and lower training loss, indicating a greater capacity to learn complex patterns.\n",
        "*   Models with more neurons (50 and 100) achieved significantly lower loss compared to the model with 10 neurons.\n",
        "\n",
        "### Insights or Next Steps\n",
        "\n",
        "*   The choice of learning rate significantly impacts model convergence and stability; a learning rate that is too high can prevent the model from converging.\n",
        "*   Increasing the number of neurons can improve the model's ability to reduce training loss, but it might require more training iterations and could increase the risk of overfitting.\n"
      ]
    }
  ]
}